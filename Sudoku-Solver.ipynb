{
 "cells": [
  {
   "cell_type": "markdown",
   "metadata": {},
   "source": [
    "# Project 8 Simple Sudoku"
   ]
  },
  {
   "cell_type": "markdown",
   "metadata": {},
   "source": [
    "For my project when all the code cells are run there will be two new files that will be created with the names **solve.txt** and **sudokus_tab.txt**. Additionally, the file **sudokus.txt** should already be download before running the code."
   ]
  },
  {
   "cell_type": "code",
   "execution_count": 127,
   "metadata": {},
   "outputs": [],
   "source": [
    "import numpy as np"
   ]
  },
  {
   "cell_type": "markdown",
   "metadata": {},
   "source": [
    "The function $rows$ will return lists of rows of sudoku puzzle identified by the **Sudoku_number** variable inputted. The output should be a list that has nine lists within it representing each row."
   ]
  },
  {
   "cell_type": "code",
   "execution_count": 128,
   "metadata": {},
   "outputs": [],
   "source": [
    "def rows(filename, Sudoku_number): # file name and position of sudoku puzzle\n",
    "    lines = []\n",
    "    with open(filename) as s:\n",
    "        for line in s:\n",
    "            lines.append(line.strip('\\n').split())\n",
    "    return lines[1+(10*(Sudoku_number-1)):10*Sudoku_number] # returns lists of rows of sudoku puzzle"
   ]
  },
  {
   "cell_type": "code",
   "execution_count": 129,
   "metadata": {},
   "outputs": [
    {
     "data": {
      "text/plain": [
       "[['0', '4', '0', '0', '0', '0', '1', '7', '9'],\n",
       " ['0', '0', '2', '0', '0', '8', '0', '5', '4'],\n",
       " ['0', '0', '6', '0', '0', '5', '0', '0', '8'],\n",
       " ['0', '8', '0', '0', '7', '0', '9', '1', '0'],\n",
       " ['0', '5', '0', '0', '9', '0', '0', '3', '0'],\n",
       " ['0', '1', '9', '0', '6', '0', '0', '4', '0'],\n",
       " ['3', '0', '0', '4', '0', '0', '7', '0', '0'],\n",
       " ['5', '7', '0', '1', '0', '0', '2', '0', '0'],\n",
       " ['9', '2', '8', '0', '0', '0', '0', '6', '0']]"
      ]
     },
     "execution_count": 129,
     "metadata": {},
     "output_type": "execute_result"
    }
   ],
   "source": [
    "rows('sudokus.txt', 1)"
   ]
  },
  {
   "cell_type": "markdown",
   "metadata": {},
   "source": [
    "The function $col$ will return lists of columns of sudoku puzzle identified by the **Sudoku_number** variable inputted. The output should be a list that has nine lists within it representing each column."
   ]
  },
  {
   "cell_type": "code",
   "execution_count": 130,
   "metadata": {},
   "outputs": [],
   "source": [
    "def col(filename, Sudoku_number): # file name and position of sudoku puzzle\n",
    "    list_of_col = np.transpose(rows(filename, Sudoku_number))\n",
    "    return list_of_col.tolist()  # returns list of columns of sudoku puzzle"
   ]
  },
  {
   "cell_type": "code",
   "execution_count": 131,
   "metadata": {},
   "outputs": [
    {
     "data": {
      "text/plain": [
       "[['0', '0', '0', '0', '0', '0', '3', '5', '9'],\n",
       " ['4', '0', '0', '8', '5', '1', '0', '7', '2'],\n",
       " ['0', '2', '6', '0', '0', '9', '0', '0', '8'],\n",
       " ['0', '0', '0', '0', '0', '0', '4', '1', '0'],\n",
       " ['0', '0', '0', '7', '9', '6', '0', '0', '0'],\n",
       " ['0', '8', '5', '0', '0', '0', '0', '0', '0'],\n",
       " ['1', '0', '0', '9', '0', '0', '7', '2', '0'],\n",
       " ['7', '5', '0', '1', '3', '4', '0', '0', '6'],\n",
       " ['9', '4', '8', '0', '0', '0', '0', '0', '0']]"
      ]
     },
     "execution_count": 131,
     "metadata": {},
     "output_type": "execute_result"
    }
   ],
   "source": [
    "col('sudokus.txt',1)"
   ]
  },
  {
   "cell_type": "markdown",
   "metadata": {},
   "source": [
    "The function $box$ will return lists of each of the 3 x 3 boxes of the sudoku puzzle identified by the **Sudoku_number** variable inputted. The output should be a list that has nine lists within it representing each of the 3 x 3 boxes."
   ]
  },
  {
   "cell_type": "code",
   "execution_count": 132,
   "metadata": {},
   "outputs": [],
   "source": [
    "def box(filename, Sudoku_number): # file name and position of sudoku puzzle\n",
    "    box1 = []\n",
    "    box2 = []\n",
    "    box3 = []\n",
    "    box4 = []\n",
    "    box5 = []\n",
    "    box6 = []\n",
    "    box7 = []\n",
    "    box8 = []\n",
    "    box9 = []\n",
    "    num = 0\n",
    "    for i in rows(filename, Sudoku_number):\n",
    "        num = num + 1\n",
    "        if num <= 3:                             # top three boxes are being put into lists\n",
    "            box1.append(i[0])\n",
    "            box1.append(i[1])\n",
    "            box1.append(i[2])\n",
    "            box2.append(i[3])\n",
    "            box2.append(i[4])\n",
    "            box2.append(i[5])\n",
    "            box3.append(i[6])\n",
    "            box3.append(i[7])\n",
    "            box3.append(i[8])\n",
    "        elif num > 3 and num <= 6:               # middle three boxes are being put into lists\n",
    "            box4.append(i[0])\n",
    "            box4.append(i[1])\n",
    "            box4.append(i[2])\n",
    "            box5.append(i[3])\n",
    "            box5.append(i[4])\n",
    "            box5.append(i[5])\n",
    "            box6.append(i[6])\n",
    "            box6.append(i[7])\n",
    "            box6.append(i[8])\n",
    "        else:                                    # bottom three boxes are being put into lists\n",
    "            box7.append(i[0])\n",
    "            box7.append(i[1])\n",
    "            box7.append(i[2])\n",
    "            box8.append(i[3])\n",
    "            box8.append(i[4])\n",
    "            box8.append(i[5])\n",
    "            box9.append(i[6])\n",
    "            box9.append(i[7])\n",
    "            box9.append(i[8])\n",
    "        \n",
    "    return [box1, box2, box3, box4, box5, box6, box7, box8, box9] # returns list of each 3 x 3 boxes of sudoku puzzle"
   ]
  },
  {
   "cell_type": "code",
   "execution_count": 133,
   "metadata": {},
   "outputs": [
    {
     "data": {
      "text/plain": [
       "[['0', '4', '0', '0', '0', '2', '0', '0', '6'],\n",
       " ['0', '0', '0', '0', '0', '8', '0', '0', '5'],\n",
       " ['1', '7', '9', '0', '5', '4', '0', '0', '8'],\n",
       " ['0', '8', '0', '0', '5', '0', '0', '1', '9'],\n",
       " ['0', '7', '0', '0', '9', '0', '0', '6', '0'],\n",
       " ['9', '1', '0', '0', '3', '0', '0', '4', '0'],\n",
       " ['3', '0', '0', '5', '7', '0', '9', '2', '8'],\n",
       " ['4', '0', '0', '1', '0', '0', '0', '0', '0'],\n",
       " ['7', '0', '0', '2', '0', '0', '0', '6', '0']]"
      ]
     },
     "execution_count": 133,
     "metadata": {},
     "output_type": "execute_result"
    }
   ],
   "source": [
    "box('sudokus.txt', 1)"
   ]
  },
  {
   "cell_type": "markdown",
   "metadata": {},
   "source": [
    "The function $options$ will take the file name of where the Sudoku puzzle is located and the coordinate of a specific 1 x 1 square and it will return the possible entries that an be used in that position."
   ]
  },
  {
   "cell_type": "code",
   "execution_count": 134,
   "metadata": {},
   "outputs": [],
   "source": [
    "def options(filename, Sudoku_number, row_num, col_num, box_num): # file name, position of sudoku puzzle, row, column, 3 x 3 square\n",
    "    list_num = ['1', '2', '3', '4', '5', '6', '7', '8', '9']     # list of possible entries\n",
    "    list_com = []                                                # will create possible entries of a specific 1 x 1 square\n",
    "    r = rows(filename,Sudoku_number)[row_num]\n",
    "    c = col(filename,Sudoku_number)[col_num]\n",
    "    b = box(filename,Sudoku_number)[box_num]\n",
    "    for i in r:\n",
    "        if i != '0':\n",
    "            list_com.append(i)\n",
    "    for i in c:\n",
    "        if i != '0':\n",
    "            list_com.append(i)\n",
    "    for i in b:\n",
    "        if i != '0':\n",
    "            list_com.append(i)\n",
    "    comb_list = []                         \n",
    "    for i in list_com:\n",
    "        if i not in comb_list:\n",
    "            comb_list.append(i) \n",
    "    for i in comb_list:\n",
    "        list_num.remove(i)\n",
    "    return list_num                # has possible entries of a specific 1 x 1 square, but does NOT contains duplicates"
   ]
  },
  {
   "cell_type": "code",
   "execution_count": 135,
   "metadata": {},
   "outputs": [
    {
     "data": {
      "text/plain": [
       "['8']"
      ]
     },
     "execution_count": 135,
     "metadata": {},
     "output_type": "execute_result"
    }
   ],
   "source": [
    "options('sudokus.txt', 1, 0, 0, 0)"
   ]
  },
  {
   "cell_type": "markdown",
   "metadata": {},
   "source": [
    "The function $combine$ uses the function $options$ to create a list that contains a list for all of the possible values for the entry (where there is a '0') positions in the puzzle."
   ]
  },
  {
   "cell_type": "code",
   "execution_count": 136,
   "metadata": {},
   "outputs": [],
   "source": [
    "def combine(filename, Sudoku_number):              # file name and position of sudoku puzzle\n",
    "    list1 = []\n",
    "    count = 0\n",
    "    for i in rows(filename, Sudoku_number):\n",
    "        for j in i:                                # j represents each entry in the 9 x 9\n",
    "            count = count + 1\n",
    "            if count in [1,2,3, 10, 11, 12, 19, 20, 21]:                 # assigning box number to specific 1 x 1 entries\n",
    "                box_num = 0\n",
    "            if count in [4,5,6,13,14,15,22,23,24]:\n",
    "                box_num = 1\n",
    "            if count in [7,8,9,16,17,18,25,26,27]:\n",
    "                box_num = 2\n",
    "            if count in [28,29,30,37,38,39,46,47,48]:\n",
    "                box_num = 3\n",
    "            if count in [31, 32,33, 40,41, 42, 49, 50, 51]:\n",
    "                box_num = 4\n",
    "            if count in [34,35,36,43,44,45,52,53,54]:\n",
    "                box_num = 5\n",
    "            if count in [55,56,57,64,65,66,73,74,75]:\n",
    "                box_num = 6\n",
    "            if count in [58, 59,60,67, 68, 69, 76, 77 ,78]:\n",
    "                box_num = 7\n",
    "            if count in [61, 62, 63, 70, 71, 72, 79, 80, 81]:\n",
    "                box_num = 8\n",
    "            \n",
    "            if count in [1,2,3,4,5,6,7,8,9]:                                # assigning row number to specific 1 x 1 entries\n",
    "                row_num = 0\n",
    "            if count in [10,11,12,13,14,15,16,17,18]:\n",
    "                row_num = 1\n",
    "            if count in [19,20,21,22,23,24,25,26,27]:\n",
    "                row_num = 2\n",
    "            if count in [28,29,30,31,32,32,34,35,36]:\n",
    "                row_num = 3\n",
    "            if count in [37,38,39,40,41,42,43,44,45]:\n",
    "                row_num = 4\n",
    "            if count in [46,47,48,49,50,51,52,53,54]:\n",
    "                row_num = 5\n",
    "            if count in [55,56,57,58,59,60,61,62,63]:\n",
    "                row_num = 6   \n",
    "            if count in [64,65,66,67,68,69,70,71,72]:\n",
    "                row_num = 7\n",
    "            if count in [73,74,75,76,77,78,79,80,81]:\n",
    "                row_num = 8\n",
    "            \n",
    "            if count in [1, 10, 19, 28, 37, 46, 55, 64, 73]:               # assigning column number to specific 1 x 1 entries\n",
    "                col_num = 0\n",
    "            if count in [2, 11, 20, 29, 38, 47, 56, 65, 74]:\n",
    "                col_num = 1\n",
    "            if count in [3, 12, 21, 30, 39, 48, 57, 66, 75]:\n",
    "                col_num = 2\n",
    "            if count in [4, 13, 22, 31, 40, 49, 58, 67, 76]:\n",
    "                col_num = 3\n",
    "            if count in [5, 14, 23, 32, 41, 50, 59, 68, 77]:\n",
    "                col_num = 4\n",
    "            if count in [6, 15, 24, 33, 42, 51, 60, 69, 78]:\n",
    "                col_num = 5\n",
    "            if count in [7, 16, 25, 34, 43, 52, 61, 70, 79]:\n",
    "                col_num = 6\n",
    "            if count in [8, 17, 26, 35, 44, 53, 62, 71, 80]:\n",
    "                col_num = 7\n",
    "            if count in [9, 18, 27, 36, 45, 54, 63, 72, 81]:\n",
    "                col_num = 8\n",
    "                \n",
    "            if j == '0':\n",
    "                list1.append(options(filename, Sudoku_number, row_num, col_num, box_num))  #possible entries of a specific 1 x 1 square is being added to the list\n",
    "                \n",
    "    return list1         # list of list that contain possible solutions for empty 1 x 1 square in the puzzle"
   ]
  },
  {
   "cell_type": "code",
   "execution_count": 137,
   "metadata": {
    "scrolled": true
   },
   "outputs": [
    {
     "data": {
      "text/plain": [
       "[['3', '4', '6'],\n",
       " ['4'],\n",
       " ['3', '6'],\n",
       " ['9'],\n",
       " ['9'],\n",
       " ['3', '5'],\n",
       " ['1'],\n",
       " ['3', '5'],\n",
       " ['4'],\n",
       " ['3', '6'],\n",
       " ['3', '4', '6', '7'],\n",
       " ['3', '6', '7'],\n",
       " ['2', '5'],\n",
       " ['5', '8'],\n",
       " ['3', '5', '8'],\n",
       " ['7'],\n",
       " ['9'],\n",
       " ['4', '5', '7'],\n",
       " ['4', '7'],\n",
       " ['2', '3', '7'],\n",
       " ['3'],\n",
       " ['2', '4', '7', '8'],\n",
       " ['2', '4', '6', '7'],\n",
       " ['6', '7', '8'],\n",
       " ['1'],\n",
       " ['1', '4', '7'],\n",
       " ['2', '7'],\n",
       " ['5', '7', '9'],\n",
       " ['5'],\n",
       " ['5', '7'],\n",
       " ['7'],\n",
       " ['6', '7'],\n",
       " ['1', '6'],\n",
       " ['5', '7', '8'],\n",
       " ['3', '7'],\n",
       " ['1', '5', '9'],\n",
       " ['5', '8'],\n",
       " ['2', '4', '7'],\n",
       " ['7', '8'],\n",
       " ['4', '8'],\n",
       " ['4', '8'],\n",
       " ['2', '4'],\n",
       " ['2', '5'],\n",
       " ['5'],\n",
       " ['1', '4', '5']]"
      ]
     },
     "execution_count": 137,
     "metadata": {},
     "output_type": "execute_result"
    }
   ],
   "source": [
    "combine('sudokus.txt', 2)"
   ]
  },
  {
   "cell_type": "markdown",
   "metadata": {},
   "source": [
    "The function $replace$ will use the list created from the function $combine$ to create an array that has the updated entries of the puzzle. It determines these entries by looking through the list of possible entries and if there is a sub-list that only has one entry in it then that string replaces the '0' that is located in a specifc location."
   ]
  },
  {
   "cell_type": "code",
   "execution_count": 138,
   "metadata": {},
   "outputs": [],
   "source": [
    "def replace(filename, Sudoku_number):              # file name and position of sudoku puzzle\n",
    "    count = -1\n",
    "    count1 = -1\n",
    "    count2 = -1\n",
    "    total = -1\n",
    "    zeros = -1\n",
    "    list1 = []\n",
    "    list_count = []\n",
    "    zero_loc = []\n",
    "    list2 = []\n",
    "    for i in combine(filename, Sudoku_number):          # i is a list that contain possible solutions for empty 1 x 1 square in the puzzle\n",
    "        count = count + 1\n",
    "        if len(i) == 1:\n",
    "            list1.append(i[0])                          # list of confimed value for a position\n",
    "            list_count.append(count)                    # location of confimed position\n",
    "    for i in rows(filename, Sudoku_number):\n",
    "        for j in i:\n",
    "            if j == '0':\n",
    "                zeros = zeros + 1\n",
    "                total = total + 1\n",
    "                for i in list_count:\n",
    "                    if i == zeros:\n",
    "                        zero_loc.append(total)\n",
    "                    \n",
    "            else:\n",
    "                total = total + 1\n",
    "    for i in rows(filename, Sudoku_number):\n",
    "        for j in i:\n",
    "            count1 = count1 + 1\n",
    "            if count1 in zero_loc:\n",
    "                count2 = count2 + 1\n",
    "                list2.append(list1[count2])\n",
    "            else:\n",
    "                list2.append(j)\n",
    "    arr = np.array(list2)\n",
    "    arr = arr.reshape(9,9)\n",
    "    return arr             # creates a 9 by 9 array of the updated entries\n",
    "        "
   ]
  },
  {
   "cell_type": "code",
   "execution_count": 139,
   "metadata": {},
   "outputs": [
    {
     "data": {
      "text/plain": [
       "array([['8', '4', '0', '0', '0', '0', '1', '7', '9'],\n",
       "       ['0', '0', '2', '0', '0', '8', '0', '5', '4'],\n",
       "       ['0', '0', '6', '0', '0', '5', '3', '2', '8'],\n",
       "       ['0', '8', '0', '0', '7', '0', '9', '1', '0'],\n",
       "       ['0', '5', '0', '0', '9', '0', '0', '3', '0'],\n",
       "       ['0', '1', '9', '0', '6', '0', '0', '4', '0'],\n",
       "       ['3', '6', '1', '4', '0', '0', '7', '0', '0'],\n",
       "       ['5', '7', '4', '1', '0', '0', '2', '0', '3'],\n",
       "       ['9', '2', '8', '0', '0', '0', '0', '6', '0']], dtype='<U1')"
      ]
     },
     "execution_count": 139,
     "metadata": {},
     "output_type": "execute_result"
    }
   ],
   "source": [
    "replace('sudokus.txt',1)"
   ]
  },
  {
   "cell_type": "code",
   "execution_count": 140,
   "metadata": {},
   "outputs": [
    {
     "data": {
      "text/plain": [
       "array([['8', '0', '2', '4', '5', '0', '7', '9', '1'],\n",
       "       ['9', '0', '7', '1', '8', '2', '4', '6', '0'],\n",
       "       ['4', '1', '0', '9', '0', '0', '0', '0', '0'],\n",
       "       ['6', '7', '9', '0', '0', '1', '8', '3', '2'],\n",
       "       ['5', '0', '3', '0', '0', '0', '1', '0', '9'],\n",
       "       ['1', '8', '4', '3', '0', '0', '5', '0', '6'],\n",
       "       ['7', '0', '0', '0', '0', '4', '0', '2', '0'],\n",
       "       ['0', '9', '5', '6', '1', '0', '3', '0', '0'],\n",
       "       ['3', '0', '8', '0', '9', '5', '6', '0', '7']], dtype='<U1')"
      ]
     },
     "execution_count": 140,
     "metadata": {},
     "output_type": "execute_result"
    }
   ],
   "source": [
    "replace('sudokus.txt',2)\n",
    "    "
   ]
  },
  {
   "cell_type": "markdown",
   "metadata": {},
   "source": [
    "I wrote the function $solved$ to that it will write in the Sudoku puzzle into a new file, note that the puzzle may have a few postions solved because the strings are created by using $replace$ function which is a list of lists of the updated entries."
   ]
  },
  {
   "cell_type": "code",
   "execution_count": 141,
   "metadata": {},
   "outputs": [],
   "source": [
    "def solved(filename, oldfile, Sudoku_number):     # new file name, old file name, and position of sudoku puzzle\n",
    "    sud = replace(oldfile, Sudoku_number).tolist()     # a list of lists of the updated entries\n",
    "    str1 = ''\n",
    "    str2 = ''\n",
    "    str3 = ''\n",
    "    str4 = ''\n",
    "    str5 = ''\n",
    "    str6 = ''\n",
    "    str7 = ''\n",
    "    str8 = ''\n",
    "    str9 = ''\n",
    "\n",
    "    for i in sud[0]:\n",
    "        str1 = str1 + i + ' '\n",
    "    for i in sud[1]:\n",
    "        str2 = str2 + i + ' '\n",
    "    for i in sud[2]:\n",
    "        str3 = str3 + i + ' '\n",
    "    for i in sud[3]:\n",
    "        str4 = str4 + i + ' '\n",
    "    for i in sud[4]:\n",
    "        str5 = str5 + i + ' '\n",
    "    for i in sud[5]:\n",
    "        str6 = str6 + i + ' '\n",
    "    for i in sud[6]:\n",
    "        str7 = str7 + i + ' '\n",
    "    for i in sud[7]:\n",
    "        str8 = str8 + i + ' '\n",
    "    for i in sud[8]:\n",
    "        str9 = str9 + i + ' '\n",
    "    f = open(filename, 'w')             # writing to a new file\n",
    "    f.write('\\n')\n",
    "    f.write(str1)\n",
    "    f.write('\\n'+str2)\n",
    "    f.write('\\n'+str3)\n",
    "    f.write('\\n'+str4)\n",
    "    f.write('\\n'+str5)\n",
    "    f.write('\\n'+str6)\n",
    "    f.write('\\n'+str7)\n",
    "    f.write('\\n'+str8)\n",
    "    f.write('\\n'+str9)\n",
    "    f.write('\\n')\n",
    "    f.close()                          # new file will be where the Sudoku will be solved \n",
    "    \n",
    "    \n",
    "    "
   ]
  },
  {
   "cell_type": "markdown",
   "metadata": {},
   "source": [
    "The function $solution$ will edit the new file created that only has one Sudoku puzzle in it untill the puzzle is solved."
   ]
  },
  {
   "cell_type": "code",
   "execution_count": 142,
   "metadata": {},
   "outputs": [],
   "source": [
    "def solution(filename, oldfile, Sudoku_number):         # new file name, old file name, and position of sudoku puzzle  \n",
    "    for i in range(100):\n",
    "        if i == 0:\n",
    "            solved(filename, oldfile, Sudoku_number)    # Sudoku puzzle is being writen into the new file \n",
    "        else:\n",
    "            solved(filename, filename, Sudoku_number)    # new file will be updated untill the Sudoku puzzle is solved "
   ]
  },
  {
   "cell_type": "markdown",
   "metadata": {},
   "source": [
    "The function $writing$_$files$  will use the function $solution$ to write a file that has the solutions to the unsolved sudoku within."
   ]
  },
  {
   "cell_type": "code",
   "execution_count": 143,
   "metadata": {},
   "outputs": [],
   "source": [
    "def writing_files(sudokus_file, filename1, num):        # file with all sudokus, new file name, and position of sudoku puzzle  \n",
    "    f = open(sudokus_file)\n",
    "    f1 = open(filename1, 'w')\n",
    "    count = 0\n",
    "    for i in f:\n",
    "        count = count + 1\n",
    "        if count>(10*(num-1)) and count <= 10*num:\n",
    "            f1.write(i)                                # writing the sudoku puzzle into the new file\n",
    "    f1.close()\n",
    "    f.close\n",
    "    "
   ]
  },
  {
   "cell_type": "markdown",
   "metadata": {},
   "source": [
    "The function $print$_$sudoku$ will create the Sudoku format, it will make the puzzles more organized and easier to understand. it will be used to print the unsolved puzzles and the solved puzzles."
   ]
  },
  {
   "cell_type": "code",
   "execution_count": 144,
   "metadata": {},
   "outputs": [],
   "source": [
    "def print_sudoku(filename, Sudoku_number):         # file name and position of sudoku puzzle\n",
    "    arr = np.array(rows(filename, Sudoku_number))  # arr is a 9x9 numpy array\n",
    "    for i in range(9):\n",
    "        for j in range(9):\n",
    "            x = arr[i, j] if arr[i, j] != 0 else \".\"\n",
    "            print(f\" {x} \", end=\"\")\n",
    "            if j in [2, 5]:\n",
    "                print(\"\\u2551\", end=\"\")\n",
    "        print(\"\")\n",
    "        if i in [2, 5]:\n",
    "            print(\"\\u2550\"*9 + \"\\u256C\" + \"\\u2550\"*9 + \"\\u256C\" + \"\\u2550\"*9)"
   ]
  },
  {
   "cell_type": "markdown",
   "metadata": {},
   "source": [
    "# Sudokus "
   ]
  },
  {
   "cell_type": "markdown",
   "metadata": {},
   "source": [
    "#### Unsolved Sudoku Puzzle # 1"
   ]
  },
  {
   "cell_type": "code",
   "execution_count": 145,
   "metadata": {},
   "outputs": [
    {
     "name": "stdout",
     "output_type": "stream",
     "text": [
      " 0  4  0 ║ 0  0  0 ║ 1  7  9 \n",
      " 0  0  2 ║ 0  0  8 ║ 0  5  4 \n",
      " 0  0  6 ║ 0  0  5 ║ 0  0  8 \n",
      "═════════╬═════════╬═════════\n",
      " 0  8  0 ║ 0  7  0 ║ 9  1  0 \n",
      " 0  5  0 ║ 0  9  0 ║ 0  3  0 \n",
      " 0  1  9 ║ 0  6  0 ║ 0  4  0 \n",
      "═════════╬═════════╬═════════\n",
      " 3  0  0 ║ 4  0  0 ║ 7  0  0 \n",
      " 5  7  0 ║ 1  0  0 ║ 2  0  0 \n",
      " 9  2  8 ║ 0  0  0 ║ 0  6  0 \n"
     ]
    }
   ],
   "source": [
    "print_sudoku('sudokus.txt', 1)"
   ]
  },
  {
   "cell_type": "code",
   "execution_count": 146,
   "metadata": {},
   "outputs": [],
   "source": [
    "writing_files('sudokus.txt', 'sudokus_tab.txt', 1)"
   ]
  },
  {
   "cell_type": "code",
   "execution_count": 147,
   "metadata": {},
   "outputs": [],
   "source": [
    "solution('solve.txt', 'sudokus_tab.txt', 1)"
   ]
  },
  {
   "cell_type": "markdown",
   "metadata": {},
   "source": [
    "#### Solved Sudoku Puzzle # 1"
   ]
  },
  {
   "cell_type": "code",
   "execution_count": 148,
   "metadata": {},
   "outputs": [
    {
     "name": "stdout",
     "output_type": "stream",
     "text": [
      " 8  4  5 ║ 6  3  2 ║ 1  7  9 \n",
      " 7  3  2 ║ 9  1  8 ║ 6  5  4 \n",
      " 1  9  6 ║ 7  4  5 ║ 3  2  8 \n",
      "═════════╬═════════╬═════════\n",
      " 6  8  3 ║ 5  7  4 ║ 9  1  2 \n",
      " 4  5  7 ║ 2  9  1 ║ 8  3  6 \n",
      " 2  1  9 ║ 8  6  3 ║ 5  4  7 \n",
      "═════════╬═════════╬═════════\n",
      " 3  6  1 ║ 4  2  9 ║ 7  8  5 \n",
      " 5  7  4 ║ 1  8  6 ║ 2  9  3 \n",
      " 9  2  8 ║ 3  5  7 ║ 4  6  1 \n"
     ]
    }
   ],
   "source": [
    "print_sudoku('solve.txt', 1)"
   ]
  },
  {
   "cell_type": "markdown",
   "metadata": {},
   "source": [
    "#### Unsolved Sudoku Puzzle # 2"
   ]
  },
  {
   "cell_type": "code",
   "execution_count": 149,
   "metadata": {},
   "outputs": [
    {
     "name": "stdout",
     "output_type": "stream",
     "text": [
      " 8  0  2 ║ 0  5  0 ║ 7  0  1 \n",
      " 0  0  7 ║ 0  8  2 ║ 4  6  0 \n",
      " 0  1  0 ║ 9  0  0 ║ 0  0  0 \n",
      "═════════╬═════════╬═════════\n",
      " 6  0  0 ║ 0  0  1 ║ 8  3  2 \n",
      " 5  0  0 ║ 0  0  0 ║ 0  0  9 \n",
      " 1  8  4 ║ 3  0  0 ║ 0  0  6 \n",
      "═════════╬═════════╬═════════\n",
      " 0  0  0 ║ 0  0  4 ║ 0  2  0 \n",
      " 0  9  5 ║ 6  1  0 ║ 3  0  0 \n",
      " 3  0  8 ║ 0  9  0 ║ 6  0  7 \n"
     ]
    }
   ],
   "source": [
    "print_sudoku('sudokus.txt', 2)"
   ]
  },
  {
   "cell_type": "code",
   "execution_count": 150,
   "metadata": {},
   "outputs": [],
   "source": [
    "writing_files('sudokus.txt', 'sudokus_tab.txt', 2)"
   ]
  },
  {
   "cell_type": "code",
   "execution_count": 151,
   "metadata": {},
   "outputs": [],
   "source": [
    "solution('solve.txt', 'sudokus_tab.txt', 1)"
   ]
  },
  {
   "cell_type": "markdown",
   "metadata": {},
   "source": [
    "#### Solved Sudoku Puzzle # 2"
   ]
  },
  {
   "cell_type": "code",
   "execution_count": 152,
   "metadata": {},
   "outputs": [
    {
     "name": "stdout",
     "output_type": "stream",
     "text": [
      " 8  3  2 ║ 4  5  6 ║ 7  9  1 \n",
      " 9  5  7 ║ 1  8  2 ║ 4  6  3 \n",
      " 4  1  6 ║ 9  7  3 ║ 2  5  8 \n",
      "═════════╬═════════╬═════════\n",
      " 6  7  9 ║ 5  4  1 ║ 8  3  2 \n",
      " 5  2  3 ║ 7  6  8 ║ 1  4  9 \n",
      " 1  8  4 ║ 3  2  9 ║ 5  7  6 \n",
      "═════════╬═════════╬═════════\n",
      " 7  6  1 ║ 8  3  4 ║ 9  2  5 \n",
      " 2  9  5 ║ 6  1  7 ║ 3  8  4 \n",
      " 3  4  8 ║ 2  9  5 ║ 6  1  7 \n"
     ]
    }
   ],
   "source": [
    "print_sudoku('solve.txt', 1)"
   ]
  },
  {
   "cell_type": "markdown",
   "metadata": {},
   "source": [
    "#### Unsolved Sudoku Puzzle # 3"
   ]
  },
  {
   "cell_type": "code",
   "execution_count": 153,
   "metadata": {},
   "outputs": [
    {
     "name": "stdout",
     "output_type": "stream",
     "text": [
      " 0  0  0 ║ 0  0  0 ║ 0  0  7 \n",
      " 7  2  0 ║ 3  0  9 ║ 0  0  1 \n",
      " 0  0  8 ║ 7  0  5 ║ 0  6  0 \n",
      "═════════╬═════════╬═════════\n",
      " 5  0  2 ║ 8  9  0 ║ 0  0  0 \n",
      " 0  4  0 ║ 5  0  1 ║ 0  9  0 \n",
      " 0  0  0 ║ 0  6  3 ║ 7  0  5 \n",
      "═════════╬═════════╬═════════\n",
      " 0  3  0 ║ 9  0  6 ║ 1  0  0 \n",
      " 2  0  0 ║ 1  0  7 ║ 0  5  3 \n",
      " 9  0  0 ║ 0  0  0 ║ 0  0  0 \n"
     ]
    }
   ],
   "source": [
    "print_sudoku('sudokus.txt', 3)"
   ]
  },
  {
   "cell_type": "code",
   "execution_count": 154,
   "metadata": {},
   "outputs": [],
   "source": [
    "writing_files('sudokus.txt', 'sudokus_tab.txt', 3)"
   ]
  },
  {
   "cell_type": "code",
   "execution_count": 155,
   "metadata": {},
   "outputs": [],
   "source": [
    "solution('solve.txt', 'sudokus_tab.txt', 1)"
   ]
  },
  {
   "cell_type": "markdown",
   "metadata": {},
   "source": [
    "#### Solved Sudoku Puzzle # 3"
   ]
  },
  {
   "cell_type": "code",
   "execution_count": 156,
   "metadata": {},
   "outputs": [
    {
     "name": "stdout",
     "output_type": "stream",
     "text": [
      " 4  9  5 ║ 6  1  8 ║ 2  3  7 \n",
      " 7  2  6 ║ 3  4  9 ║ 5  8  1 \n",
      " 3  1  8 ║ 7  2  5 ║ 4  6  9 \n",
      "═════════╬═════════╬═════════\n",
      " 5  7  2 ║ 8  9  4 ║ 3  1  6 \n",
      " 6  4  3 ║ 5  7  1 ║ 8  9  2 \n",
      " 1  8  9 ║ 2  6  3 ║ 7  4  5 \n",
      "═════════╬═════════╬═════════\n",
      " 8  3  7 ║ 9  5  6 ║ 1  2  4 \n",
      " 2  6  4 ║ 1  8  7 ║ 9  5  3 \n",
      " 9  5  1 ║ 4  3  2 ║ 6  7  8 \n"
     ]
    }
   ],
   "source": [
    "print_sudoku('solve.txt', 1)"
   ]
  },
  {
   "cell_type": "markdown",
   "metadata": {},
   "source": [
    "#### Unsolved Sudoku Puzzle # 4"
   ]
  },
  {
   "cell_type": "code",
   "execution_count": 157,
   "metadata": {},
   "outputs": [
    {
     "name": "stdout",
     "output_type": "stream",
     "text": [
      " 0  2  5 ║ 0  0  7 ║ 0  0  4 \n",
      " 0  0  1 ║ 0  0  5 ║ 0  2  0 \n",
      " 7  0  0 ║ 0  2  0 ║ 5  0  0 \n",
      "═════════╬═════════╬═════════\n",
      " 5  0  9 ║ 0  0  4 ║ 8  0  0 \n",
      " 0  0  0 ║ 0  0  0 ║ 0  0  0 \n",
      " 0  0  7 ║ 5  0  0 ║ 6  0  9 \n",
      "═════════╬═════════╬═════════\n",
      " 0  0  3 ║ 0  7  0 ║ 0  0  6 \n",
      " 0  4  0 ║ 1  0  0 ║ 7  0  0 \n",
      " 8  0  0 ║ 2  0  0 ║ 9  1  0 \n"
     ]
    }
   ],
   "source": [
    "print_sudoku('sudokus.txt', 4)"
   ]
  },
  {
   "cell_type": "code",
   "execution_count": 158,
   "metadata": {},
   "outputs": [],
   "source": [
    "writing_files('sudokus.txt', 'sudokus_tab.txt', 4)"
   ]
  },
  {
   "cell_type": "code",
   "execution_count": 159,
   "metadata": {},
   "outputs": [],
   "source": [
    "solution('solve.txt', 'sudokus_tab.txt', 1)"
   ]
  },
  {
   "cell_type": "markdown",
   "metadata": {},
   "source": [
    "#### Solved Sudoku Puzzle # 4"
   ]
  },
  {
   "cell_type": "code",
   "execution_count": 160,
   "metadata": {},
   "outputs": [
    {
     "name": "stdout",
     "output_type": "stream",
     "text": [
      " 3  2  5 ║ 8  6  7 ║ 1  9  4 \n",
      " 6  8  1 ║ 4  9  5 ║ 3  2  7 \n",
      " 7  9  4 ║ 3  2  1 ║ 5  6  8 \n",
      "═════════╬═════════╬═════════\n",
      " 5  3  9 ║ 6  1  4 ║ 8  7  2 \n",
      " 2  6  8 ║ 7  3  9 ║ 4  5  1 \n",
      " 4  1  7 ║ 5  8  2 ║ 6  3  9 \n",
      "═════════╬═════════╬═════════\n",
      " 1  5  3 ║ 9  7  8 ║ 2  4  6 \n",
      " 9  4  2 ║ 1  5  6 ║ 7  8  3 \n",
      " 8  7  6 ║ 2  4  3 ║ 9  1  5 \n"
     ]
    }
   ],
   "source": [
    "print_sudoku('solve.txt', 1)"
   ]
  },
  {
   "cell_type": "markdown",
   "metadata": {},
   "source": [
    "#### Unsolved Sudoku Puzzle # 5"
   ]
  },
  {
   "cell_type": "code",
   "execution_count": 161,
   "metadata": {},
   "outputs": [
    {
     "name": "stdout",
     "output_type": "stream",
     "text": [
      " 0  0  1 ║ 7  2  5 ║ 0  0  0 \n",
      " 0  8  0 ║ 0  1  0 ║ 0  0  6 \n",
      " 2  5  0 ║ 0  0  0 ║ 1  3  0 \n",
      "═════════╬═════════╬═════════\n",
      " 0  7  0 ║ 0  0  0 ║ 5  0  0 \n",
      " 0  0  0 ║ 1  0  6 ║ 0  0  0 \n",
      " 0  0  9 ║ 0  0  0 ║ 0  8  0 \n",
      "═════════╬═════════╬═════════\n",
      " 0  4  5 ║ 0  0  0 ║ 0  2  9 \n",
      " 7  0  0 ║ 0  9  0 ║ 0  6  0 \n",
      " 0  0  0 ║ 6  4  8 ║ 3  0  0 \n"
     ]
    }
   ],
   "source": [
    "print_sudoku('sudokus.txt', 5)"
   ]
  },
  {
   "cell_type": "code",
   "execution_count": 162,
   "metadata": {},
   "outputs": [],
   "source": [
    "writing_files('sudokus.txt', 'sudokus_tab.txt', 5)"
   ]
  },
  {
   "cell_type": "code",
   "execution_count": 163,
   "metadata": {},
   "outputs": [],
   "source": [
    "solution('solve.txt', 'sudokus_tab.txt', 1)"
   ]
  },
  {
   "cell_type": "markdown",
   "metadata": {},
   "source": [
    "#### Solved Sudoku Puzzle # 5"
   ]
  },
  {
   "cell_type": "code",
   "execution_count": 164,
   "metadata": {},
   "outputs": [
    {
     "name": "stdout",
     "output_type": "stream",
     "text": [
      " 3  6  1 ║ 7  2  5 ║ 9  4  8 \n",
      " 9  8  7 ║ 4  1  3 ║ 2  5  6 \n",
      " 2  5  4 ║ 8  6  9 ║ 1  3  7 \n",
      "═════════╬═════════╬═════════\n",
      " 8  7  6 ║ 9  3  4 ║ 5  1  2 \n",
      " 5  2  3 ║ 1  8  6 ║ 7  9  4 \n",
      " 4  1  9 ║ 2  5  7 ║ 6  8  3 \n",
      "═════════╬═════════╬═════════\n",
      " 6  4  5 ║ 3  7  1 ║ 8  2  9 \n",
      " 7  3  8 ║ 5  9  2 ║ 4  6  1 \n",
      " 1  9  2 ║ 6  4  8 ║ 3  7  5 \n"
     ]
    }
   ],
   "source": [
    "print_sudoku('solve.txt', 1)"
   ]
  },
  {
   "cell_type": "markdown",
   "metadata": {},
   "source": [
    "#### Unsolved Sudoku Puzzle # 6"
   ]
  },
  {
   "cell_type": "code",
   "execution_count": 165,
   "metadata": {},
   "outputs": [
    {
     "name": "stdout",
     "output_type": "stream",
     "text": [
      " 0  0  3 ║ 0  2  0 ║ 6  0  0 \n",
      " 9  0  0 ║ 3  0  5 ║ 0  0  1 \n",
      " 0  0  1 ║ 8  0  6 ║ 4  0  0 \n",
      "═════════╬═════════╬═════════\n",
      " 0  0  8 ║ 1  0  2 ║ 9  0  0 \n",
      " 7  0  0 ║ 0  0  0 ║ 0  0  8 \n",
      " 0  0  6 ║ 7  0  8 ║ 2  0  0 \n",
      "═════════╬═════════╬═════════\n",
      " 0  0  2 ║ 6  0  9 ║ 5  0  0 \n",
      " 8  0  0 ║ 2  0  3 ║ 0  0  9 \n",
      " 0  0  5 ║ 0  1  0 ║ 3  0  0 \n"
     ]
    }
   ],
   "source": [
    "print_sudoku('sudokus.txt', 6)"
   ]
  },
  {
   "cell_type": "code",
   "execution_count": 166,
   "metadata": {},
   "outputs": [],
   "source": [
    "writing_files('sudokus.txt', 'sudokus_tab.txt', 6)"
   ]
  },
  {
   "cell_type": "code",
   "execution_count": 167,
   "metadata": {},
   "outputs": [],
   "source": [
    "solution('solve.txt', 'sudokus_tab.txt', 1)"
   ]
  },
  {
   "cell_type": "markdown",
   "metadata": {},
   "source": [
    "#### Solved Sudoku Puzzle # 6"
   ]
  },
  {
   "cell_type": "code",
   "execution_count": 168,
   "metadata": {},
   "outputs": [
    {
     "name": "stdout",
     "output_type": "stream",
     "text": [
      " 4  8  3 ║ 9  2  1 ║ 6  5  7 \n",
      " 9  6  7 ║ 3  4  5 ║ 8  2  1 \n",
      " 2  5  1 ║ 8  7  6 ║ 4  9  3 \n",
      "═════════╬═════════╬═════════\n",
      " 5  4  8 ║ 1  3  2 ║ 9  7  6 \n",
      " 7  2  9 ║ 5  6  4 ║ 1  3  8 \n",
      " 1  3  6 ║ 7  9  8 ║ 2  4  5 \n",
      "═════════╬═════════╬═════════\n",
      " 3  7  2 ║ 6  8  9 ║ 5  1  4 \n",
      " 8  1  4 ║ 2  5  3 ║ 7  6  9 \n",
      " 6  9  5 ║ 4  1  7 ║ 3  8  2 \n"
     ]
    }
   ],
   "source": [
    "print_sudoku('solve.txt', 1)"
   ]
  }
 ],
 "metadata": {
  "kernelspec": {
   "display_name": "Python 3",
   "language": "python",
   "name": "python3"
  },
  "language_info": {
   "codemirror_mode": {
    "name": "ipython",
    "version": 3
   },
   "file_extension": ".py",
   "mimetype": "text/x-python",
   "name": "python",
   "nbconvert_exporter": "python",
   "pygments_lexer": "ipython3",
   "version": "3.8.3"
  }
 },
 "nbformat": 4,
 "nbformat_minor": 4
}
